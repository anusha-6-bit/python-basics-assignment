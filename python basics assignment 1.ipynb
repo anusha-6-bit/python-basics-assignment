{
  "nbformat": 4,
  "nbformat_minor": 0,
  "metadata": {
    "colab": {
      "provenance": []
    },
    "kernelspec": {
      "name": "python3",
      "display_name": "Python 3"
    },
    "language_info": {
      "name": "python"
    }
  },
  "cells": [
    {
      "cell_type": "code",
      "execution_count": null,
      "metadata": {
        "id": "Xq9mo_pkVlz3"
      },
      "outputs": [],
      "source": []
    },
    {
      "cell_type": "markdown",
      "source": [
        "🔹 1. Key Features of Python?\n",
        "\n",
        "Python is a high-level, interpreted language known for its simplicity and readability. It supports object-oriented, functional, and procedural programming paradigms and has a vast standard library.\n",
        "\n"
      ],
      "metadata": {
        "id": "YdUY0OG4stox"
      }
    },
    {
      "cell_type": "code",
      "source": [
        "# Demonstrating Python's key features\n",
        "\n",
        "print(\"Hello, Python!\")  # Simple syntax\n",
        "x = 10\n",
        "x = \"Now I'm a string\"  # Dynamic typing\n",
        "\n",
        "import math\n",
        "print(math.sqrt(16))  # Built-in libraries\n",
        "\n",
        "class Animal:\n",
        "    def speak(self):\n",
        "        return \"Roar\"\n",
        "\n",
        "lion = Animal()\n",
        "print(lion.speak())  # Object-oriented support\n"
      ],
      "metadata": {
        "colab": {
          "base_uri": "https://localhost:8080/"
        },
        "id": "Iy7idPQHszxo",
        "outputId": "3e6e4afa-6ee4-4c1a-d294-d93b2c6a6b76"
      },
      "execution_count": 1,
      "outputs": [
        {
          "output_type": "stream",
          "name": "stdout",
          "text": [
            "Hello, Python!\n",
            "4.0\n",
            "Roar\n"
          ]
        }
      ]
    },
    {
      "cell_type": "markdown",
      "source": [
        "🔹 2. Predefined Keywords in Python?\n",
        "\n",
        "Keywords are reserved words in Python that have special meaning. They define the syntax and structure of the language and cannot be used as variable names."
      ],
      "metadata": {
        "id": "mtCNqPwctBMK"
      }
    },
    {
      "cell_type": "code",
      "source": [
        "# Using some common Python keywords\n",
        "\n",
        "def check_number(num):\n",
        "    if num > 0:\n",
        "        return \"Positive\"\n",
        "    elif num == 0:\n",
        "        return \"Zero\"\n",
        "    else:\n",
        "        return \"Negative\"\n",
        "\n",
        "print(check_number(-5))\n"
      ],
      "metadata": {
        "id": "t0M4RhGotFnK"
      },
      "execution_count": null,
      "outputs": []
    },
    {
      "cell_type": "markdown",
      "source": [
        "🔹 3. Mutable vs Immutable Objects?\n",
        "\n",
        "In Python, mutable objects can be changed after creation (e.g., lists), while immutable objects cannot (e.g., integers, strings, tuples). Understanding this helps manage data efficiently."
      ],
      "metadata": {
        "id": "GUmVTcu7tkRS"
      }
    },
    {
      "cell_type": "code",
      "source": [
        "# Immutable object example (int)\n",
        "a = 5\n",
        "print(id(a))\n",
        "a += 1\n",
        "print(id(a))  # Memory address changes\n",
        "\n",
        "# Mutable object example (list)\n",
        "my_list = [1, 2, 3]\n",
        "print(id(my_list))\n",
        "my_list.append(4)\n",
        "print(id(my_list))  # Same memory address\n"
      ],
      "metadata": {
        "colab": {
          "base_uri": "https://localhost:8080/"
        },
        "id": "m7Z6ILbTuOGU",
        "outputId": "b4087469-2142-416b-c4c5-261d96d88385"
      },
      "execution_count": 5,
      "outputs": [
        {
          "output_type": "stream",
          "name": "stdout",
          "text": [
            "10750984\n",
            "10751016\n",
            "138517506411200\n",
            "138517506411200\n"
          ]
        }
      ]
    },
    {
      "cell_type": "markdown",
      "source": [
        "🔹 4. Types of Operators in Python?\n",
        "\n",
        "Operators are special symbols used to perform operations on variables and values. Python supports arithmetic, comparison, logical, assignment, bitwise, and membership operators."
      ],
      "metadata": {
        "id": "WZ9WQlJ7uSyu"
      }
    },
    {
      "cell_type": "code",
      "source": [
        "# Different types of operators\n",
        "\n",
        "a, b = 10, 3\n",
        "print(a + b, a - b, a * b, a / b, a % b)  # Arithmetic\n",
        "print(a > b, a == b, a != b)              # Comparison\n",
        "print(True and False, True or False)      # Logical\n",
        "\n",
        "x = 5\n",
        "x += 3\n",
        "print(x)                                  # Assignment\n",
        "\n",
        "print(a & b, a | b)                       # Bitwise\n",
        "print(1 in [1, 2, 3])                     # Membership\n"
      ],
      "metadata": {
        "colab": {
          "base_uri": "https://localhost:8080/"
        },
        "id": "nKqkymlZuaLC",
        "outputId": "1ece1738-513a-4a5d-fe40-cc5468e2a959"
      },
      "execution_count": 4,
      "outputs": [
        {
          "output_type": "stream",
          "name": "stdout",
          "text": [
            "13 7 30 3.3333333333333335 1\n",
            "True False True\n",
            "False True\n",
            "8\n",
            "2 11\n",
            "True\n"
          ]
        }
      ]
    },
    {
      "cell_type": "markdown",
      "source": [
        "🔹 5. Type Casting in Python?\n",
        "\n",
        "Type casting is the process of converting one data type to another. Python supports both implicit and explicit type conversions."
      ],
      "metadata": {
        "id": "4KkWAdQ5uc9d"
      }
    },
    {
      "cell_type": "code",
      "source": [
        "# Implicit casting (int + float = float)\n",
        "x = 10\n",
        "y = 3.5\n",
        "z = x + y\n",
        "print(z, type(z))\n",
        "\n",
        "# Explicit casting (manual)\n",
        "a = \"123\"\n",
        "b = int(a)\n",
        "print(b, type(b))\n",
        "\n",
        "c = 45\n",
        "d = str(c)\n",
        "print(d, type(d))\n"
      ],
      "metadata": {
        "colab": {
          "base_uri": "https://localhost:8080/"
        },
        "id": "WcJw1Odmuip4",
        "outputId": "dcea2951-2058-4850-df8c-15deb6850ba9"
      },
      "execution_count": 3,
      "outputs": [
        {
          "output_type": "stream",
          "name": "stdout",
          "text": [
            "13.5 <class 'float'>\n",
            "123 <class 'int'>\n",
            "45 <class 'str'>\n"
          ]
        }
      ]
    },
    {
      "cell_type": "markdown",
      "source": [
        "🔹 6. Conditional Statements in Python?\n",
        "\n",
        "Conditional statements allow us to execute a block of code based on certain conditions using if, elif, and else."
      ],
      "metadata": {
        "id": "MImZGyD_upxV"
      }
    },
    {
      "cell_type": "code",
      "source": [
        "# if-elif-else structure\n",
        "\n",
        "age = 20\n",
        "if age < 13:\n",
        "    print(\"Child\")\n",
        "elif age < 18:\n",
        "    print(\"Teenager\")\n",
        "else:\n",
        "    print(\"Adult\")\n"
      ],
      "metadata": {
        "colab": {
          "base_uri": "https://localhost:8080/"
        },
        "id": "eMpdUWbJusMM",
        "outputId": "0dec5946-a559-4606-a656-0ff78c9d1211"
      },
      "execution_count": 2,
      "outputs": [
        {
          "output_type": "stream",
          "name": "stdout",
          "text": [
            "Adult\n"
          ]
        }
      ]
    },
    {
      "cell_type": "markdown",
      "source": [
        "🔹 7. Loops in Python?\n",
        "\n",
        "Loops are used to execute a block of code repeatedly. Python provides two types: for (for a sequence) and while (based on condition)."
      ],
      "metadata": {
        "id": "KcQrTYn2vNyY"
      }
    },
    {
      "cell_type": "code",
      "source": [
        "# For loop\n",
        "for i in range(3):\n",
        "    print(\"For loop iteration:\", i)\n",
        "\n",
        "# While loop\n",
        "count = 0\n",
        "while count < 3:\n",
        "    print(\"While loop iteration:\", count)\n",
        "    count += 1\n",
        "\n",
        "# Break and Continue\n",
        "for i in range(5):\n",
        "    if i == 3:\n",
        "        break\n",
        "    if i == 1:\n",
        "        continue\n",
        "    print(\"Loop with break/continue:\", i)\n"
      ],
      "metadata": {
        "id": "GN9rLPWRvQaQ"
      },
      "execution_count": null,
      "outputs": []
    }
  ]
}